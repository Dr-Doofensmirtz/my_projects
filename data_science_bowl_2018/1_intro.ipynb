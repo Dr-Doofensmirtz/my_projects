{
  "nbformat": 4,
  "nbformat_minor": 0,
  "metadata": {
    "colab": {
      "name": "1_intro.ipynb",
      "provenance": [],
      "include_colab_link": true
    },
    "kernelspec": {
      "name": "python3",
      "display_name": "Python 3"
    }
  },
  "cells": [
    {
      "cell_type": "markdown",
      "metadata": {
        "id": "view-in-github",
        "colab_type": "text"
      },
      "source": [
        "<a href=\"https://colab.research.google.com/github/Dr-Doofensmirtz/my_projects/blob/master/data_science_bowl_2018/1_intro.ipynb\" target=\"_parent\"><img src=\"https://colab.research.google.com/assets/colab-badge.svg\" alt=\"Open In Colab\"/></a>"
      ]
    },
    {
      "cell_type": "markdown",
      "metadata": {
        "id": "khIDJKysj_zw"
      },
      "source": [
        "# getting data"
      ]
    },
    {
      "cell_type": "code",
      "metadata": {
        "colab": {
          "base_uri": "https://localhost:8080/"
        },
        "id": "URAXqYLlvAZQ",
        "outputId": "4b9dd543-cd65-4da2-fbd0-54c335c94d2d"
      },
      "source": [
        "from google.colab import drive\n",
        "drive.mount('/content/drive')"
      ],
      "execution_count": 8,
      "outputs": [
        {
          "output_type": "stream",
          "text": [
            "Drive already mounted at /content/drive; to attempt to forcibly remount, call drive.mount(\"/content/drive\", force_remount=True).\n"
          ],
          "name": "stdout"
        }
      ]
    },
    {
      "cell_type": "markdown",
      "metadata": {
        "id": "UOSvrCmajulq"
      },
      "source": [
        "downloading data from kaggle"
      ]
    },
    {
      "cell_type": "code",
      "metadata": {
        "id": "CdFbyh_ngBcb"
      },
      "source": [
        "import os\n",
        "try:\n",
        "  os.environ['KAGGLE_CONFIG_DIR'] = \"drive/MyDrive/kaggle/\"\n",
        "except:\n",
        "  print('path not found')"
      ],
      "execution_count": 11,
      "outputs": []
    },
    {
      "cell_type": "code",
      "metadata": {
        "colab": {
          "base_uri": "https://localhost:8080/"
        },
        "id": "0Kw3ox0ifiW7",
        "outputId": "528bfbf1-6006-4a9e-ad69-0b4ef3ded717"
      },
      "source": [
        "!kaggle competitions download -c data-science-bowl-2018"
      ],
      "execution_count": 10,
      "outputs": [
        {
          "output_type": "stream",
          "text": [
            "Warning: Looks like you're using an outdated API Version, please consider updating (server 1.5.10 / client 1.5.4)\n",
            "stage1_train.zip: Skipping, found more recently modified local copy (use --force to force download)\n",
            "stage2_test_final.zip: Skipping, found more recently modified local copy (use --force to force download)\n",
            "stage1_solution.csv.zip: Skipping, found more recently modified local copy (use --force to force download)\n",
            "stage1_test.zip: Skipping, found more recently modified local copy (use --force to force download)\n",
            "stage2_sample_submission_final.csv.zip: Skipping, found more recently modified local copy (use --force to force download)\n",
            "stage1_sample_submission.csv.zip: Skipping, found more recently modified local copy (use --force to force download)\n",
            "stage1_train_labels.csv.zip: Skipping, found more recently modified local copy (use --force to force download)\n"
          ],
          "name": "stdout"
        }
      ]
    },
    {
      "cell_type": "markdown",
      "metadata": {
        "id": "kMq5Ir40j1sD"
      },
      "source": [
        "extracting training data"
      ]
    },
    {
      "cell_type": "code",
      "metadata": {
        "id": "j7itxQRPg_qN"
      },
      "source": [
        "import zipfile\n",
        "from tqdm import tqdm\n",
        "import numpy as np\n",
        "import pandas as pd\n",
        "import os\n",
        "import shutil\n",
        "import glob\n",
        "\n",
        "from skimage.io import *\n",
        "from skimage.transform import resize\n",
        "from sklearn import model_selection\n",
        "\n",
        "from joblib import Parallel, delayed\n",
        "\n",
        "from torch.utils.data import Dataset, DataLoader, random_split\n",
        "from torchvision import transforms, utils\n",
        "from torch import nn\n",
        "\n",
        "import albumentations as A\n",
        "from albumentations.pytorch import ToTensor"
      ],
      "execution_count": 35,
      "outputs": []
    },
    {
      "cell_type": "code",
      "metadata": {
        "id": "loiyx1gNjJZA"
      },
      "source": [
        "with zipfile.ZipFile(\"stage1_train.zip\", \"r\") as file:\n",
        "  file.extractall(\"train_data/\")"
      ],
      "execution_count": 14,
      "outputs": []
    },
    {
      "cell_type": "code",
      "metadata": {
        "id": "w11hsMuJjs67"
      },
      "source": [
        "def get_mask(mask_dir, IMG_HEIGHT, IMG_WIDTH):   \n",
        "    mask = np.zeros((IMG_HEIGHT, IMG_WIDTH, 1), dtype=np.uint8)\n",
        "    \n",
        "    for mask_f in next(os.walk(mask_dir))[2]:\n",
        "        mask_ = imread(mask_dir)\n",
        "        mask_ = np.expand_dims(resize(mask_, (IMG_HEIGHT,IMG_WIDTH), mode='constant', preserve_range=True), axis=-1)\n",
        "        mask = np.maximum(mask, mask_)\n",
        "    \n",
        "    os.mkdir(s_path)\n",
        "    imsave(s_path+ img +\".jpg\", mask)\n",
        "    shutil.rmtree(m_path)"
      ],
      "execution_count": 52,
      "outputs": []
    },
    {
      "cell_type": "code",
      "metadata": {
        "id": "OgK1tqIlzF_v"
      },
      "source": [
        "def get_folds(df):\n",
        "\n",
        "  df['kfold'] = -1\n",
        "  df = df.sample(frac=1).reset_index(drop=True)\n",
        "  kf = model_selection.KFold(n_splits=5)\n",
        "\n",
        "  for fold_, (_, x) in enumerate(kf.split(df)):\n",
        "      for xs in x:\n",
        "          df.loc[xs, \"kfold\"] = fold_\n",
        "\n",
        "  return df\n",
        "  # print(df.head())\n",
        "  # print(df.tail())\n",
        "  # df.to_csv(\"folds.csv\", index=False)"
      ],
      "execution_count": 29,
      "outputs": []
    },
    {
      "cell_type": "code",
      "metadata": {
        "id": "UU6i8H3I7UPi"
      },
      "source": [
        "img_dir = glob.glob(\"train_data/*/images/*.png\")\n",
        "mask_dir = glob.glob(\"train_data/*/masks/\")"
      ],
      "execution_count": 55,
      "outputs": []
    },
    {
      "cell_type": "code",
      "metadata": {
        "id": "rvb7BqjDKvuD",
        "outputId": "d9e3d727-cb7d-4de5-c1f1-57770adc2539",
        "colab": {
          "base_uri": "https://localhost:8080/",
          "height": 35
        }
      },
      "source": [
        "mask_dir[1]"
      ],
      "execution_count": 54,
      "outputs": [
        {
          "output_type": "execute_result",
          "data": {
            "application/vnd.google.colaboratory.intrinsic+json": {
              "type": "string"
            },
            "text/plain": [
              "'train_data/bbfc4aab5645637680fa0ef00925eea733b93099f1944c0aea09b78af1d4eef2/mask/'"
            ]
          },
          "metadata": {
            "tags": []
          },
          "execution_count": 54
        }
      ]
    },
    {
      "cell_type": "code",
      "metadata": {
        "id": "y1-hKcXM7VOs"
      },
      "source": [
        "data = {\"img_\": img_dir, \"mask_\": mask_dir}\n",
        "df = pd.DataFrame(data=data)"
      ],
      "execution_count": 26,
      "outputs": []
    },
    {
      "cell_type": "code",
      "metadata": {
        "colab": {
          "base_uri": "https://localhost:8080/",
          "height": 204
        },
        "id": "TXOK8Wp79AmG",
        "outputId": "6f11ae0e-6ae6-43be-8f95-36b8d5e1b7b2"
      },
      "source": [
        "df.head()"
      ],
      "execution_count": 27,
      "outputs": [
        {
          "output_type": "execute_result",
          "data": {
            "text/html": [
              "<div>\n",
              "<style scoped>\n",
              "    .dataframe tbody tr th:only-of-type {\n",
              "        vertical-align: middle;\n",
              "    }\n",
              "\n",
              "    .dataframe tbody tr th {\n",
              "        vertical-align: top;\n",
              "    }\n",
              "\n",
              "    .dataframe thead th {\n",
              "        text-align: right;\n",
              "    }\n",
              "</style>\n",
              "<table border=\"1\" class=\"dataframe\">\n",
              "  <thead>\n",
              "    <tr style=\"text-align: right;\">\n",
              "      <th></th>\n",
              "      <th>img_</th>\n",
              "      <th>mask_</th>\n",
              "    </tr>\n",
              "  </thead>\n",
              "  <tbody>\n",
              "    <tr>\n",
              "      <th>0</th>\n",
              "      <td>train_data/c0c4a829c8d33d16a02f5dc0411597329f4...</td>\n",
              "      <td>train_data/c0c4a829c8d33d16a02f5dc0411597329f4...</td>\n",
              "    </tr>\n",
              "    <tr>\n",
              "      <th>1</th>\n",
              "      <td>train_data/bbfc4aab5645637680fa0ef00925eea733b...</td>\n",
              "      <td>train_data/bbfc4aab5645637680fa0ef00925eea733b...</td>\n",
              "    </tr>\n",
              "    <tr>\n",
              "      <th>2</th>\n",
              "      <td>train_data/cf26c41245febfe67c2a1682cc4ee8752ee...</td>\n",
              "      <td>train_data/cf26c41245febfe67c2a1682cc4ee8752ee...</td>\n",
              "    </tr>\n",
              "    <tr>\n",
              "      <th>3</th>\n",
              "      <td>train_data/76a372bfd3fad3ea30cb163b560e52607a8...</td>\n",
              "      <td>train_data/76a372bfd3fad3ea30cb163b560e52607a8...</td>\n",
              "    </tr>\n",
              "    <tr>\n",
              "      <th>4</th>\n",
              "      <td>train_data/0e21d7b3eea8cdbbed60d51d72f4f8c1974...</td>\n",
              "      <td>train_data/0e21d7b3eea8cdbbed60d51d72f4f8c1974...</td>\n",
              "    </tr>\n",
              "  </tbody>\n",
              "</table>\n",
              "</div>"
            ],
            "text/plain": [
              "                                                img_                                              mask_\n",
              "0  train_data/c0c4a829c8d33d16a02f5dc0411597329f4...  train_data/c0c4a829c8d33d16a02f5dc0411597329f4...\n",
              "1  train_data/bbfc4aab5645637680fa0ef00925eea733b...  train_data/bbfc4aab5645637680fa0ef00925eea733b...\n",
              "2  train_data/cf26c41245febfe67c2a1682cc4ee8752ee...  train_data/cf26c41245febfe67c2a1682cc4ee8752ee...\n",
              "3  train_data/76a372bfd3fad3ea30cb163b560e52607a8...  train_data/76a372bfd3fad3ea30cb163b560e52607a8...\n",
              "4  train_data/0e21d7b3eea8cdbbed60d51d72f4f8c1974...  train_data/0e21d7b3eea8cdbbed60d51d72f4f8c1974..."
            ]
          },
          "metadata": {
            "tags": []
          },
          "execution_count": 27
        }
      ]
    },
    {
      "cell_type": "code",
      "metadata": {
        "id": "8lDC-ksw9Gz9"
      },
      "source": [
        "df_fold = get_folds(df)"
      ],
      "execution_count": 32,
      "outputs": []
    },
    {
      "cell_type": "code",
      "metadata": {
        "colab": {
          "base_uri": "https://localhost:8080/",
          "height": 204
        },
        "id": "AouqGDqs9YHj",
        "outputId": "471de227-3f00-46ee-ef2b-898dc745aab9"
      },
      "source": [
        "df_fold.tail()"
      ],
      "execution_count": 34,
      "outputs": [
        {
          "output_type": "execute_result",
          "data": {
            "text/html": [
              "<div>\n",
              "<style scoped>\n",
              "    .dataframe tbody tr th:only-of-type {\n",
              "        vertical-align: middle;\n",
              "    }\n",
              "\n",
              "    .dataframe tbody tr th {\n",
              "        vertical-align: top;\n",
              "    }\n",
              "\n",
              "    .dataframe thead th {\n",
              "        text-align: right;\n",
              "    }\n",
              "</style>\n",
              "<table border=\"1\" class=\"dataframe\">\n",
              "  <thead>\n",
              "    <tr style=\"text-align: right;\">\n",
              "      <th></th>\n",
              "      <th>img_</th>\n",
              "      <th>mask_</th>\n",
              "      <th>kfold</th>\n",
              "    </tr>\n",
              "  </thead>\n",
              "  <tbody>\n",
              "    <tr>\n",
              "      <th>665</th>\n",
              "      <td>train_data/8f27ebc74164eddfe989a98a754dcf5a9c8...</td>\n",
              "      <td>train_data/8f27ebc74164eddfe989a98a754dcf5a9c8...</td>\n",
              "      <td>4</td>\n",
              "    </tr>\n",
              "    <tr>\n",
              "      <th>666</th>\n",
              "      <td>train_data/602f267432e7a573e1092f1cf48135c82d0...</td>\n",
              "      <td>train_data/602f267432e7a573e1092f1cf48135c82d0...</td>\n",
              "      <td>4</td>\n",
              "    </tr>\n",
              "    <tr>\n",
              "      <th>667</th>\n",
              "      <td>train_data/76a372bfd3fad3ea30cb163b560e52607a8...</td>\n",
              "      <td>train_data/76a372bfd3fad3ea30cb163b560e52607a8...</td>\n",
              "      <td>4</td>\n",
              "    </tr>\n",
              "    <tr>\n",
              "      <th>668</th>\n",
              "      <td>train_data/ed5be4b63e9506ad64660dd92a098ffcc03...</td>\n",
              "      <td>train_data/ed5be4b63e9506ad64660dd92a098ffcc03...</td>\n",
              "      <td>4</td>\n",
              "    </tr>\n",
              "    <tr>\n",
              "      <th>669</th>\n",
              "      <td>train_data/c15c652c08153fb781a5349123ab8f80bb2...</td>\n",
              "      <td>train_data/c15c652c08153fb781a5349123ab8f80bb2...</td>\n",
              "      <td>4</td>\n",
              "    </tr>\n",
              "  </tbody>\n",
              "</table>\n",
              "</div>"
            ],
            "text/plain": [
              "                                                  img_  ... kfold\n",
              "665  train_data/8f27ebc74164eddfe989a98a754dcf5a9c8...  ...     4\n",
              "666  train_data/602f267432e7a573e1092f1cf48135c82d0...  ...     4\n",
              "667  train_data/76a372bfd3fad3ea30cb163b560e52607a8...  ...     4\n",
              "668  train_data/ed5be4b63e9506ad64660dd92a098ffcc03...  ...     4\n",
              "669  train_data/c15c652c08153fb781a5349123ab8f80bb2...  ...     4\n",
              "\n",
              "[5 rows x 3 columns]"
            ]
          },
          "metadata": {
            "tags": []
          },
          "execution_count": 34
        }
      ]
    },
    {
      "cell_type": "code",
      "metadata": {
        "id": "4UhfaGNe_pw4"
      },
      "source": [
        "def get_train_transform():\n",
        "   return A.Compose(\n",
        "       [\n",
        "        A.Normalize(mean=(0.485, 0.456, 0.406), std=(0.229, 0.224, 0.225)),\n",
        "        A.HorizontalFlip(p=0.25),\n",
        "        A.VerticalFlip(p=0.25),\n",
        "        ToTensor()\n",
        "        ])"
      ],
      "execution_count": 43,
      "outputs": []
    },
    {
      "cell_type": "code",
      "metadata": {
        "id": "I95FHw_m92SL"
      },
      "source": [
        "class dataSet(Dataset):\n",
        "  def __init__(self, df, fold=0, train=True, transforms= None):\n",
        "    self.transforms = transforms\n",
        "\n",
        "    if train:\n",
        "      self.df = df[df.kfold != fold].reset_index(drop=True)\n",
        "    else:\n",
        "      self.df = df[df.kfold == fold].reset_index(drop=True)\n",
        "\n",
        "  def __getitem__(self, idx):\n",
        "    img_path = df.loc[idx, \"img_\"]\n",
        "    mask_path = df.loc[idx, \"mask_\"]\n",
        "\n",
        "    mask = get_mask(mask_path)\n",
        "    img = imread(img_path)\n",
        "    mask = imread(mask_path)\n",
        "\n",
        "    if self.transforms:\n"
      ],
      "execution_count": null,
      "outputs": []
    },
    {
      "cell_type": "code",
      "metadata": {
        "id": "rH9KcZwk_6tV"
      },
      "source": [
        "x = imread(df.loc[56,\"img_\"])"
      ],
      "execution_count": 50,
      "outputs": []
    },
    {
      "cell_type": "code",
      "metadata": {
        "colab": {
          "base_uri": "https://localhost:8080/"
        },
        "id": "f7ng6tUYAee5",
        "outputId": "6d66ba54-1016-45dc-b8f4-166680f3e0ac"
      },
      "source": [
        "x.shape"
      ],
      "execution_count": 51,
      "outputs": [
        {
          "output_type": "execute_result",
          "data": {
            "text/plain": [
              "(256, 320, 4)"
            ]
          },
          "metadata": {
            "tags": []
          },
          "execution_count": 51
        }
      ]
    },
    {
      "cell_type": "code",
      "metadata": {
        "id": "hgRCw1nHBLuR"
      },
      "source": [
        ""
      ],
      "execution_count": null,
      "outputs": []
    }
  ]
}